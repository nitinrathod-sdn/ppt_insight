{
 "cells": [
  {
   "cell_type": "code",
   "execution_count": 4,
   "metadata": {},
   "outputs": [],
   "source": [
    "from pptx import Presentation\n",
    "\n",
    "def extract_text_from_ppt(file_path):\n",
    "    try:\n",
    "        prs = Presentation(file_path)\n",
    "        text_runs = []\n",
    "        for slide in prs.slides:\n",
    "            for shape in slide.shapes:\n",
    "                if hasattr(shape, \"text\"):\n",
    "                    text_runs.append(shape.text)\n",
    "        all_text = \"\\n\".join(text_runs)\n",
    "        return all_text\n",
    "    except Exception as e:\n",
    "        return f\"Error extracting text from PowerPoint: {str(e)}\""
   ]
  },
  {
   "cell_type": "code",
   "execution_count": 5,
   "metadata": {},
   "outputs": [],
   "source": [
    "ALLOWED_EXTENSIONS = {'ppt', 'pptx'}\n",
    "def allowed_file(filename):\n",
    "    return '.' in filename and filename.rsplit('.', 1)[1].lower() in ALLOWED_EXTENSIONS"
   ]
  },
  {
   "cell_type": "code",
   "execution_count": 6,
   "metadata": {},
   "outputs": [
    {
     "name": "stdout",
     "output_type": "stream",
     "text": [
      "Extracted Text:\n",
      " Error extracting text from PowerPoint: Package not found at '/home/nitinrathod/Pictures/POC/static/upload/ppt2.ppt'\n"
     ]
    }
   ],
   "source": [
    "# Example usage\n",
    "file_path = \"\"  # Replace with your file path\n",
    "extracted_text = extract_text_from_ppt(file_path)\n",
    "print(\"Extracted Text:\\n\", extracted_text)"
   ]
  },
  {
   "cell_type": "code",
   "execution_count": 7,
   "metadata": {},
   "outputs": [
    {
     "name": "stdout",
     "output_type": "stream",
     "text": [
      "Requirement already satisfied: python-pptx in /home/nitinrathod/anaconda3/envs/env/lib/python3.12/site-packages (0.6.23)\n",
      "Requirement already satisfied: lxml>=3.1.0 in /home/nitinrathod/anaconda3/envs/env/lib/python3.12/site-packages (from python-pptx) (5.2.2)\n",
      "Requirement already satisfied: Pillow>=3.3.2 in /home/nitinrathod/anaconda3/envs/env/lib/python3.12/site-packages (from python-pptx) (10.3.0)\n",
      "Requirement already satisfied: XlsxWriter>=0.5.7 in /home/nitinrathod/anaconda3/envs/env/lib/python3.12/site-packages (from python-pptx) (3.2.0)\n"
     ]
    }
   ],
   "source": [
    "!pip install python-pptx"
   ]
  },
  {
   "cell_type": "code",
   "execution_count": null,
   "metadata": {},
   "outputs": [],
   "source": [
    "from pptx import Presentation\n",
    "\n",
    "def read_pptx(file_path):\n",
    "    # Load the PowerPoint presentation\n",
    "    prs = Presentation(file_path)\n",
    "\n",
    "    # Iterate through slides and extract text\n",
    "    for slide in prs.slides:\n",
    "        for shape in slide.shapes:\n",
    "            if hasattr(shape, 'text'):\n",
    "                print(shape.text)\n",
    "\n",
    "# Example usage:\n",
    "pptx_file_path = '/home/nitinrathod/Pictures/POC/static/upload/Sample-PPT-File-500kb.ppt'  # Replace with your file path\n",
    "read_pptx(pptx_file_path)\n"
   ]
  }
 ],
 "metadata": {
  "kernelspec": {
   "display_name": "env",
   "language": "python",
   "name": "python3"
  },
  "language_info": {
   "codemirror_mode": {
    "name": "ipython",
    "version": 3
   },
   "file_extension": ".py",
   "mimetype": "text/x-python",
   "name": "python",
   "nbconvert_exporter": "python",
   "pygments_lexer": "ipython3",
   "version": "3.12.3"
  }
 },
 "nbformat": 4,
 "nbformat_minor": 2
}
